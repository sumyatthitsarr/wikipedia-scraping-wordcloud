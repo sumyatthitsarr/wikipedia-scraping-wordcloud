{
 "cells": [
  {
   "cell_type": "code",
   "execution_count": 66,
   "id": "b01e8ee0",
   "metadata": {},
   "outputs": [
    {
     "name": "stdout",
     "output_type": "stream",
     "text": [
      "200\n"
     ]
    }
   ],
   "source": [
    "import requests\n",
    "\n",
    "page = requests.get(\"https://en.wikipedia.org/wiki/Portal:Current_events\")\n",
    "\n",
    "print(page.status_code)\n",
    "\n",
    "# print(page.content)"
   ]
  },
  {
   "cell_type": "code",
   "execution_count": 67,
   "id": "3bba065e",
   "metadata": {},
   "outputs": [],
   "source": [
    "from bs4 import BeautifulSoup\n",
    "import requests \n",
    "\n",
    "page = requests.get(\"https://en.wikipedia.org/wiki/Portal:Current_events\")\n",
    "\n",
    "soup = BeautifulSoup(page.content, 'html.parser')\n",
    "\n",
    "# print(soup.prettify())\n",
    "\n",
    "# list(soup.children)\n",
    "\n",
    "object = soup.find(id=\"mw-content-text\")\n",
    "\n",
    "items = object.find_all(class_=\"current-events-content description\")\n",
    "# items.find('a')\n",
    "\n",
    "div_list = [div for div in soup.find_all('div', class_=\"current-events-content description\")]\n",
    "p_list = [div.find_all('li') for div in div_list]\n",
    "content = [item.text.strip() for p in p_list for item in p]\n",
    "unique_content = list(set(content))\n",
    "# print(unique_content)\n",
    "# result = items[0]\n",
    "# print(soup.find_all('div'))\n",
    "\n",
    "# print(soup.find_all('p')[0].get_text())\n",
    "\n",
    "# print(result.prettify())"
   ]
  },
  {
   "cell_type": "code",
   "execution_count": 68,
   "id": "2c8c4837",
   "metadata": {},
   "outputs": [],
   "source": [
    "import nltk\n",
    "from nltk.tokenize import word_tokenize\n",
    "from nltk.corpus import stopwords\n",
    "\n",
    "words = []\n",
    "\n",
    "for item in unique_content:\n",
    "    words += word_tokenize(item)\n",
    "words = [w.lower() for w in words]\n",
    "    \n",
    "\n",
    "words = [w for w in words if w not in stopwords.words('english')]\n",
    "words = [w for w in words if w.isalnum()]"
   ]
  },
  {
   "cell_type": "code",
   "execution_count": 69,
   "id": "974904ea",
   "metadata": {},
   "outputs": [],
   "source": [
    "# words"
   ]
  },
  {
   "cell_type": "code",
   "execution_count": 71,
   "id": "aa83434c",
   "metadata": {},
   "outputs": [
    {
     "data": {
      "text/plain": [
       "<wordcloud.wordcloud.WordCloud at 0x7fd44fdc83a0>"
      ]
     },
     "execution_count": 71,
     "metadata": {},
     "output_type": "execute_result"
    }
   ],
   "source": [
    "from wordcloud import WordCloud\n",
    "\n",
    "\n",
    "unique_string=(\" \").join(words)\n",
    "# print(unique_string)\n",
    "\n",
    "\n",
    "wordcloud = WordCloud(width = 2000, height = 1000, background_color=\"white\").generate(unique_string)\n",
    "wordcloud.to_file(\"word_cloud_wiki_current_events.png\")"
   ]
  },
  {
   "cell_type": "code",
   "execution_count": null,
   "id": "a1e57108",
   "metadata": {},
   "outputs": [],
   "source": []
  }
 ],
 "metadata": {
  "kernelspec": {
   "display_name": "Python 3 (ipykernel)",
   "language": "python",
   "name": "python3"
  },
  "language_info": {
   "codemirror_mode": {
    "name": "ipython",
    "version": 3
   },
   "file_extension": ".py",
   "mimetype": "text/x-python",
   "name": "python",
   "nbconvert_exporter": "python",
   "pygments_lexer": "ipython3",
   "version": "3.9.7"
  }
 },
 "nbformat": 4,
 "nbformat_minor": 5
}
